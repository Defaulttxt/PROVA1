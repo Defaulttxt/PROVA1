{
 "cells": [
  {
   "cell_type": "code",
   "execution_count": 53,
   "id": "e6f941ef-cb57-4f2a-b27e-2745fa147608",
   "metadata": {},
   "outputs": [
    {
     "name": "stdout",
     "output_type": "stream",
     "text": [
      "3\n"
     ]
    }
   ],
   "source": [
    "class No:\n",
    "    def __init__(self, valor):\n",
    "        self.valor = valor\n",
    "        self.proximo = None\n",
    "        \n",
    "class ListaEncadeada:\n",
    "    def __init__(self):\n",
    "        self.inicio = None\n",
    "        \n",
    "    def inserir(self, valor):\n",
    "        novo_no = No(valor)\n",
    "        if self.inicio is None:\n",
    "            self.inicio = novo_no\n",
    "        else:\n",
    "            atual = self.inicio\n",
    "            while atual.proximo:\n",
    "                atual = atual.proximo\n",
    "            atual.proximo = novo_no\n",
    "\n",
    "    def contar(self):\n",
    "        contador = 0\n",
    "        atual = self.inicio\n",
    "        while atual:\n",
    "            contador += 1\n",
    "            atual = atual.proximo\n",
    "        return contador\n",
    "\n",
    "# Teste\n",
    "lista = ListaEncadeada()\n",
    "lista.inserir(5)\n",
    "lista.inserir(15)\n",
    "lista.inserir(25)\n",
    "\n",
    "print(lista.contar()) "
   ]
  }
 ],
 "metadata": {
  "kernelspec": {
   "display_name": "Python [conda env:base] *",
   "language": "python",
   "name": "conda-base-py"
  },
  "language_info": {
   "codemirror_mode": {
    "name": "ipython",
    "version": 3
   },
   "file_extension": ".py",
   "mimetype": "text/x-python",
   "name": "python",
   "nbconvert_exporter": "python",
   "pygments_lexer": "ipython3",
   "version": "3.12.7"
  }
 },
 "nbformat": 4,
 "nbformat_minor": 5
}
